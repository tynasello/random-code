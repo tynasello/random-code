{
 "cells": [
  {
   "cell_type": "markdown",
   "metadata": {},
   "source": [
    "K-nearest neighbours is a supervised ml algorithm used for both classification and regression tasks. KNN takes the K data points that are closest too a query and either makes a prediction based on the most frequent label of said data points (in the case of classification), or the average label (in the case of regression).\n"
   ]
  },
  {
   "cell_type": "markdown",
   "metadata": {},
   "source": [
    "I could use scikit-learn's KNeighborsClassifier, but I am going to implement KNN from scratch.\n",
    "This KNN model will predict the age (number of rings) of an abalone (mollusk) based on it's physical properties.\n",
    "\n",
    "https://archive.ics.uci.edu/ml/datasets/abalone\n",
    "\n",
    "https://realpython.com/knn-python/#use-knn-to-predict-the-age-of-sea-slugs\n"
   ]
  },
  {
   "cell_type": "code",
   "execution_count": 2,
   "metadata": {},
   "outputs": [],
   "source": [
    "import numpy as np\n",
    "import pandas as pd\n",
    "import math\n",
    "from collections import Counter\n"
   ]
  },
  {
   "cell_type": "code",
   "execution_count": 3,
   "metadata": {},
   "outputs": [
    {
     "data": {
      "text/html": [
       "<div>\n",
       "<style scoped>\n",
       "    .dataframe tbody tr th:only-of-type {\n",
       "        vertical-align: middle;\n",
       "    }\n",
       "\n",
       "    .dataframe tbody tr th {\n",
       "        vertical-align: top;\n",
       "    }\n",
       "\n",
       "    .dataframe thead th {\n",
       "        text-align: right;\n",
       "    }\n",
       "</style>\n",
       "<table border=\"1\" class=\"dataframe\">\n",
       "  <thead>\n",
       "    <tr style=\"text-align: right;\">\n",
       "      <th></th>\n",
       "      <th>Length</th>\n",
       "      <th>Diameter</th>\n",
       "      <th>Height</th>\n",
       "      <th>Whole weight</th>\n",
       "      <th>Shucked weight</th>\n",
       "      <th>Viscera weight</th>\n",
       "      <th>Shell weight</th>\n",
       "      <th>Rings</th>\n",
       "    </tr>\n",
       "  </thead>\n",
       "  <tbody>\n",
       "    <tr>\n",
       "      <th>0</th>\n",
       "      <td>0.35</td>\n",
       "      <td>0.265</td>\n",
       "      <td>0.090</td>\n",
       "      <td>0.2255</td>\n",
       "      <td>0.0995</td>\n",
       "      <td>0.0485</td>\n",
       "      <td>0.070</td>\n",
       "      <td>7</td>\n",
       "    </tr>\n",
       "    <tr>\n",
       "      <th>1</th>\n",
       "      <td>0.53</td>\n",
       "      <td>0.420</td>\n",
       "      <td>0.135</td>\n",
       "      <td>0.6770</td>\n",
       "      <td>0.2565</td>\n",
       "      <td>0.1415</td>\n",
       "      <td>0.210</td>\n",
       "      <td>9</td>\n",
       "    </tr>\n",
       "    <tr>\n",
       "      <th>2</th>\n",
       "      <td>0.44</td>\n",
       "      <td>0.365</td>\n",
       "      <td>0.125</td>\n",
       "      <td>0.5160</td>\n",
       "      <td>0.2155</td>\n",
       "      <td>0.1140</td>\n",
       "      <td>0.155</td>\n",
       "      <td>10</td>\n",
       "    </tr>\n",
       "  </tbody>\n",
       "</table>\n",
       "</div>"
      ],
      "text/plain": [
       "   Length  Diameter  Height  Whole weight  Shucked weight  Viscera weight  \\\n",
       "0    0.35     0.265   0.090        0.2255          0.0995          0.0485   \n",
       "1    0.53     0.420   0.135        0.6770          0.2565          0.1415   \n",
       "2    0.44     0.365   0.125        0.5160          0.2155          0.1140   \n",
       "\n",
       "   Shell weight  Rings  \n",
       "0         0.070      7  \n",
       "1         0.210      9  \n",
       "2         0.155     10  "
      ]
     },
     "execution_count": 3,
     "metadata": {},
     "output_type": "execute_result"
    }
   ],
   "source": [
    "# load dataset\n",
    "df = pd.read_csv('./data/abalone.csv')\n",
    "df.columns = [\"Sex\", \"Length\", \"Diameter\", \"Height\", \"Whole weight\",\n",
    "              \"Shucked weight\", \"Viscera weight\", \"Shell weight\", \"Rings\"]\n",
    "df = df.drop(\"Sex\", axis=1)\n",
    "df.head(3)"
   ]
  },
  {
   "cell_type": "code",
   "execution_count": 68,
   "metadata": {},
   "outputs": [
    {
     "name": "stdout",
     "output_type": "stream",
     "text": [
      "[0.71   0.555  0.195  1.9485 0.9455 0.3765 0.495 ]\n",
      "12\n"
     ]
    }
   ],
   "source": [
    "# remove one sample from df to test KNN model with\n",
    "sample = df.iloc[[-1]]\n",
    "df.drop(df.tail(1).index, inplace=True)\n",
    "\n",
    "sample_x = sample.drop('Rings', axis=1).values.squeeze()\n",
    "sample_y = sample[['Rings']].values.squeeze()\n",
    "\n",
    "print(sample_x)\n",
    "print(sample_y)\n"
   ]
  },
  {
   "cell_type": "code",
   "execution_count": 69,
   "metadata": {},
   "outputs": [],
   "source": [
    "# split data into sets of independant and dependant variables\n",
    "x = df.drop('Rings', axis=1)\n",
    "y = df[['Rings']]\n"
   ]
  },
  {
   "cell_type": "code",
   "execution_count": 70,
   "metadata": {},
   "outputs": [
    {
     "data": {
      "text/html": [
       "<div>\n",
       "<style scoped>\n",
       "    .dataframe tbody tr th:only-of-type {\n",
       "        vertical-align: middle;\n",
       "    }\n",
       "\n",
       "    .dataframe tbody tr th {\n",
       "        vertical-align: top;\n",
       "    }\n",
       "\n",
       "    .dataframe thead th {\n",
       "        text-align: right;\n",
       "    }\n",
       "</style>\n",
       "<table border=\"1\" class=\"dataframe\">\n",
       "  <thead>\n",
       "    <tr style=\"text-align: right;\">\n",
       "      <th></th>\n",
       "      <th>Length</th>\n",
       "      <th>Diameter</th>\n",
       "      <th>Height</th>\n",
       "      <th>Whole weight</th>\n",
       "      <th>Shucked weight</th>\n",
       "      <th>Viscera weight</th>\n",
       "      <th>Shell weight</th>\n",
       "    </tr>\n",
       "  </thead>\n",
       "  <tbody>\n",
       "    <tr>\n",
       "      <th>0</th>\n",
       "      <td>0.35</td>\n",
       "      <td>0.265</td>\n",
       "      <td>0.090</td>\n",
       "      <td>0.2255</td>\n",
       "      <td>0.0995</td>\n",
       "      <td>0.0485</td>\n",
       "      <td>0.070</td>\n",
       "    </tr>\n",
       "    <tr>\n",
       "      <th>1</th>\n",
       "      <td>0.53</td>\n",
       "      <td>0.420</td>\n",
       "      <td>0.135</td>\n",
       "      <td>0.6770</td>\n",
       "      <td>0.2565</td>\n",
       "      <td>0.1415</td>\n",
       "      <td>0.210</td>\n",
       "    </tr>\n",
       "    <tr>\n",
       "      <th>2</th>\n",
       "      <td>0.44</td>\n",
       "      <td>0.365</td>\n",
       "      <td>0.125</td>\n",
       "      <td>0.5160</td>\n",
       "      <td>0.2155</td>\n",
       "      <td>0.1140</td>\n",
       "      <td>0.155</td>\n",
       "    </tr>\n",
       "  </tbody>\n",
       "</table>\n",
       "</div>"
      ],
      "text/plain": [
       "   Length  Diameter  Height  Whole weight  Shucked weight  Viscera weight  \\\n",
       "0    0.35     0.265   0.090        0.2255          0.0995          0.0485   \n",
       "1    0.53     0.420   0.135        0.6770          0.2565          0.1415   \n",
       "2    0.44     0.365   0.125        0.5160          0.2155          0.1140   \n",
       "\n",
       "   Shell weight  \n",
       "0         0.070  \n",
       "1         0.210  \n",
       "2         0.155  "
      ]
     },
     "execution_count": 70,
     "metadata": {},
     "output_type": "execute_result"
    }
   ],
   "source": [
    "x.head(3)\n"
   ]
  },
  {
   "cell_type": "code",
   "execution_count": 71,
   "metadata": {},
   "outputs": [
    {
     "data": {
      "text/html": [
       "<div>\n",
       "<style scoped>\n",
       "    .dataframe tbody tr th:only-of-type {\n",
       "        vertical-align: middle;\n",
       "    }\n",
       "\n",
       "    .dataframe tbody tr th {\n",
       "        vertical-align: top;\n",
       "    }\n",
       "\n",
       "    .dataframe thead th {\n",
       "        text-align: right;\n",
       "    }\n",
       "</style>\n",
       "<table border=\"1\" class=\"dataframe\">\n",
       "  <thead>\n",
       "    <tr style=\"text-align: right;\">\n",
       "      <th></th>\n",
       "      <th>Rings</th>\n",
       "    </tr>\n",
       "  </thead>\n",
       "  <tbody>\n",
       "    <tr>\n",
       "      <th>0</th>\n",
       "      <td>7</td>\n",
       "    </tr>\n",
       "    <tr>\n",
       "      <th>1</th>\n",
       "      <td>9</td>\n",
       "    </tr>\n",
       "    <tr>\n",
       "      <th>2</th>\n",
       "      <td>10</td>\n",
       "    </tr>\n",
       "  </tbody>\n",
       "</table>\n",
       "</div>"
      ],
      "text/plain": [
       "   Rings\n",
       "0      7\n",
       "1      9\n",
       "2     10"
      ]
     },
     "execution_count": 71,
     "metadata": {},
     "output_type": "execute_result"
    }
   ],
   "source": [
    "y.head(3)\n"
   ]
  },
  {
   "cell_type": "code",
   "execution_count": 72,
   "metadata": {},
   "outputs": [],
   "source": [
    "# convert x and y to np arrays\n",
    "x = x.values.squeeze()\n",
    "y = y.values.squeeze()\n"
   ]
  },
  {
   "cell_type": "code",
   "execution_count": 73,
   "metadata": {},
   "outputs": [
    {
     "data": {
      "text/plain": [
       "Length            0.557072\n",
       "Diameter          0.574957\n",
       "Height            0.558050\n",
       "Whole weight      0.540831\n",
       "Shucked weight    0.421222\n",
       "Viscera weight    0.504217\n",
       "Shell weight      0.628034\n",
       "Rings             1.000000\n",
       "Name: Rings, dtype: float64"
      ]
     },
     "execution_count": 73,
     "metadata": {},
     "output_type": "execute_result"
    }
   ],
   "source": [
    "# is there a correlation between physical measurements of an abalone and it's age?\n",
    "# values in correlation matrix closer to 1 than 0 signify there is a correlation between said measurement and the number of rings\n",
    "# therefore a KNN model is reasonable to use\n",
    "c_m = df.corr()\n",
    "c_m['Rings']\n"
   ]
  },
  {
   "cell_type": "code",
   "execution_count": 81,
   "metadata": {},
   "outputs": [],
   "source": [
    "# distance function - euclidean distance\n",
    "# could also use numpy's linalg.norm\n",
    "def get_dist(a, b):\n",
    "    summed_squared_dist = 0\n",
    "    for i in range(len(a)):\n",
    "        summed_squared_dist +=  math.pow(a[i]-b[i], 2)\n",
    "    dist = math.sqrt(summed_squared_dist)\n",
    "    return dist\n"
   ]
  },
  {
   "cell_type": "code",
   "execution_count": 96,
   "metadata": {},
   "outputs": [],
   "source": [
    "nearest_neighbors = []\n",
    "\n",
    "# loop through all data points\n",
    "for i, xx in enumerate(x):\n",
    "    # find distance between data point and sample_x and add it and the data points age (# of rings) to nearest_neighbors array\n",
    "    dist = get_dist(xx, sample_x)\n",
    "    label = y[i]\n",
    "    nearest_neighbors.append((label, dist))\n",
    "\n",
    "# sort nearest neighbors\n",
    "nearest_neighbors = sorted(nearest_neighbors, key=lambda x: x[1])\n"
   ]
  },
  {
   "cell_type": "code",
   "execution_count": 110,
   "metadata": {},
   "outputs": [
    {
     "data": {
      "text/plain": [
       "[13, 12, 11, 12]"
      ]
     },
     "execution_count": 110,
     "metadata": {},
     "output_type": "execute_result"
    }
   ],
   "source": [
    "# should run some optimization method to find best k like scikit-learn's GridSearchCV\n",
    "# doing this would also provide insight on how we should weight neighbours based on distance when making predictions\n",
    "k = 4\n",
    "\n",
    "# choose the k nearest neighbors of sample_x and get their labels\n",
    "nearest_neighbors_labels = [i[0] for i in nearest_neighbors[:k]]\n",
    "nearest_neighbors_labels\n"
   ]
  },
  {
   "cell_type": "code",
   "execution_count": 116,
   "metadata": {},
   "outputs": [
    {
     "name": "stdout",
     "output_type": "stream",
     "text": [
      "Predicted sample age is 12\n",
      "Actual sample age is 12\n"
     ]
    }
   ],
   "source": [
    "# find mode of nearest_neighbors_labels. Could also use SciPy stats.mode\n",
    "sample_y_pred = Counter(nearest_neighbors_labels).most_common(1)[0][0]\n",
    "print(f'Predicted sample age is {sample_y_pred}')\n",
    "print(f'Actual sample age is {sample_y}')\n"
   ]
  }
 ],
 "metadata": {
  "kernelspec": {
   "display_name": "Python 3.10.4 ('data-science-env')",
   "language": "python",
   "name": "python3"
  },
  "language_info": {
   "codemirror_mode": {
    "name": "ipython",
    "version": 3
   },
   "file_extension": ".py",
   "mimetype": "text/x-python",
   "name": "python",
   "nbconvert_exporter": "python",
   "pygments_lexer": "ipython3",
   "version": "3.10.4"
  },
  "orig_nbformat": 4,
  "vscode": {
   "interpreter": {
    "hash": "e955d9f5300169bbbf016d1b1b6aa83fb81dee4a3f4ac144c12d1d677128a7e7"
   }
  }
 },
 "nbformat": 4,
 "nbformat_minor": 2
}
