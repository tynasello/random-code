{
  "cells": [
    {
      "cell_type": "markdown",
      "metadata": {},
      "source": [
        "Feed forward NN using PyTorch"
      ]
    },
    {
      "cell_type": "code",
      "execution_count": 171,
      "metadata": {
        "id": "jaBRFjJJp0sR"
      },
      "outputs": [],
      "source": [
        "import torchvision\n",
        "import torch\n",
        "from torchvision.datasets import MNIST\n",
        "from torchvision.transforms import Compose, ToTensor, ToPILImage, Lambda"
      ]
    },
    {
      "cell_type": "code",
      "execution_count": 172,
      "metadata": {
        "id": "ZmvQUAcaZDBL"
      },
      "outputs": [],
      "source": [
        "transforms = Compose([\n",
        "  # transform image to tensor\n",
        "  ToTensor(),\n",
        "  # transform size of tensor from 1*28*28 to 784\n",
        "  Lambda(lambda i: i.view(784))\n",
        "])\n",
        "\n",
        "train_data = MNIST(root='./', download=True, train=True, transform=transforms)\n",
        "test_data = MNIST(root='./', download=True, train=False, transform=transforms)"
      ]
    },
    {
      "cell_type": "code",
      "execution_count": 173,
      "metadata": {
        "id": "IfM0nc6anWpU"
      },
      "outputs": [],
      "source": [
        "def to_t(tensor):\n",
        "  return tensor.to(torch.device('cuda') if torch.cuda.is_available() else torch.device('cpu'))"
      ]
    },
    {
      "cell_type": "code",
      "execution_count": 174,
      "metadata": {
        "id": "7warKXJsa62i"
      },
      "outputs": [],
      "source": [
        "from torch import nn, optim\n",
        "\n",
        "# MNIST digit classification model\n",
        "class Model(nn.Module):\n",
        "  def __init__(self):\n",
        "    super().__init__()\n",
        "    # MLP. inear layers with ReLU activation functions. Cross entropy loss function and SGD optimizer.\n",
        "    self.layers = nn.Sequential(\n",
        "        nn.Linear(784,512),\n",
        "        nn.ReLU(),\n",
        "        nn.Linear(512,512),\n",
        "        nn.ReLU(),\n",
        "        nn.Linear(512,10),\n",
        "    )\n",
        "    self.loss = nn.CrossEntropyLoss()\n",
        "    self.optimizer = optim.SGD(self.parameters(), lr=0.1)\n",
        "    self.to(torch.device('cuda') if torch.cuda.is_available() else torch.device('cpu'))\n",
        "    \n",
        "  def forward(self, x):\n",
        "    # complete forward a\n",
        "    return self.layers(x)\n",
        "\n",
        "  def predict(self, x):\n",
        "    # don't calucalte gradients for test data\n",
        "    with torch.no_grad():\n",
        "      # return predicted digit\n",
        "      return torch.argmax(self.forward(x), axis=-1)\n",
        "\n",
        "  def fit(self, x, y):\n",
        "    # don't accumulate gradients\n",
        "    self.optimizer.zero_grad()\n",
        "    # complete forward pass\n",
        "    y_prediction = self.forward(x)\n",
        "    # compute model loss\n",
        "    loss = self.loss(y_prediction, y)\n",
        "    # compute gradient using back prop\n",
        "    loss.backward()\n",
        "    # update model parameters based on calculated gradient\n",
        "    self.optimizer.step()\n",
        "    # return model's loss\n",
        "    return loss.item()\n"
      ]
    },
    {
      "cell_type": "code",
      "execution_count": 175,
      "metadata": {
        "id": "dXqzJxNGmkej"
      },
      "outputs": [],
      "source": [
        "model = Model()"
      ]
    },
    {
      "cell_type": "code",
      "execution_count": 176,
      "metadata": {
        "id": "eWyESVX_hOex"
      },
      "outputs": [],
      "source": [
        "from torch.utils.data import DataLoader\n",
        "\n",
        "BATCH_SIZE = 32\n",
        "\n",
        "train_dataloader = DataLoader(train_data, batch_size=BATCH_SIZE)\n",
        "test_dataloader = DataLoader(test_data, batch_size=BATCH_SIZE)"
      ]
    },
    {
      "cell_type": "code",
      "execution_count": 177,
      "metadata": {
        "colab": {
          "base_uri": "https://localhost:8080/"
        },
        "id": "AN5nnMpdk51I",
        "outputId": "6ea10be8-8c62-4ea7-b27f-60ad6770b4e7"
      },
      "outputs": [
        {
          "name": "stdout",
          "output_type": "stream",
          "text": [
            "Epoch 1 - training loss: 0.3261\n",
            "Epoch 2 - training loss: 0.1126\n",
            "Epoch 3 - training loss: 0.0732\n",
            "Epoch 4 - training loss: 0.0515\n",
            "Epoch 5 - training loss: 0.0372\n"
          ]
        }
      ],
      "source": [
        "EPOCHS = 5\n",
        "for i in range(EPOCHS):\n",
        "  loss = 0\n",
        "  for x, y in train_dataloader:\n",
        "    # tensor device conversion to GPU if available\n",
        "    x, y = to_t(x), to_t(y)\n",
        "    # train\n",
        "    loss += model.fit(x,y)\n",
        "  loss /= len(train_dataloader)\n",
        "  print(f'Epoch {i+1} - training loss: {loss:.4f}')"
      ]
    },
    {
      "cell_type": "code",
      "execution_count": 178,
      "metadata": {
        "colab": {
          "base_uri": "https://localhost:8080/"
        },
        "id": "V3CCtq4kozpC",
        "outputId": "66077b5a-23c1-4560-997e-1e60f4d35d46"
      },
      "outputs": [
        {
          "name": "stdout",
          "output_type": "stream",
          "text": [
            "Final Results\n",
            "-------------\n",
            "Training Loss: 0.0372\n",
            "Test Accuracy: 0.9614\n"
          ]
        }
      ],
      "source": [
        "correct=0\n",
        "\n",
        "for x, y in test_dataloader:\n",
        "  x, y = to_t(x), to_t(y)\n",
        "  y_prediciton = model.predict(x)\n",
        "  correct += (y == y_prediciton).sum()\n",
        "\n",
        "accuracy = correct/(len(test_dataloader)*BATCH_SIZE)\n",
        "\n",
        "print('Final Results')\n",
        "print('-------------')\n",
        "\n",
        "print(f'Training Loss: {loss:.4f}')\n",
        "print(f'Test Accuracy: {accuracy:.4f}')\n"
      ]
    },
    {
      "cell_type": "code",
      "execution_count": 178,
      "metadata": {
        "id": "aV0K9yCcknkT"
      },
      "outputs": [],
      "source": []
    }
  ],
  "metadata": {
    "accelerator": "GPU",
    "colab": {
      "collapsed_sections": [],
      "name": "mnist_digit_classifier.ipynb",
      "provenance": [],
      "toc_visible": true
    },
    "gpuClass": "standard",
    "kernelspec": {
      "display_name": "Python 3",
      "name": "python3"
    },
    "language_info": {
      "name": "python"
    }
  },
  "nbformat": 4,
  "nbformat_minor": 0
}
